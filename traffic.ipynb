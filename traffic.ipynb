{
 "cells": [
  {
   "cell_type": "markdown",
   "metadata": {},
   "source": [
    "## הפקת דו\"חות עומסי ביקורת "
   ]
  },
  {
   "cell_type": "code",
   "execution_count": 1,
   "metadata": {},
   "outputs": [
    {
     "name": "stdout",
     "output_type": "stream",
     "text": [
      "Refreshing connection...\n"
     ]
    }
   ],
   "source": [
    "# Refresh the Excel sheet with its connection ODC file\n",
    "print('Refreshing connection...')\n",
    "\n",
    "import win32com.client\n",
    "xl = win32com.client.DispatchEx(\"Excel.Application\")\n",
    "wb = xl.workbooks.open(r'\\\\fsrv\\Public_Folders\\מפינט\\חטיבת קדסטר\\מערכת חדשה לניהול קדסטר - דוחות\\View_AllProjects_currently_phase.xlsx')\n",
    "xl.Visible = False\n",
    "wb.RefreshAll()\n",
    "wb.Save()\n",
    "xl.Quit()"
   ]
  },
  {
   "cell_type": "code",
   "execution_count": 2,
   "metadata": {},
   "outputs": [],
   "source": [
    "# Read Cadastre Excel file\n",
    "# and convert columns name to English\n",
    "import pandas as pd\n",
    "\n",
    "heb2eng_dic ={\"מס' טופס\":'form',\n",
    "              'אליפסה':'elipse',\n",
    "              'סוג פרויקט':'form_type',\n",
    "              'מאפיינים':'feature',\n",
    "              'מודד':'surveyor',\n",
    "              'מודד מבקר':'mevaker_surveyor',\n",
    "              'תאריך קבלת פרויקט':'form_date',\n",
    "              'שלב ביקורת':'phase',\n",
    "              'סטאטוס':'status',\n",
    "              'תאריך סטאטוס':'status_date',\n",
    "              'מסלול ביקורת':'lane',\n",
    "              'יחידה מבוקשת':'unit_request',\n",
    "              'יחידה':'unit',\n",
    "              'שם המבצע':'worker',\n",
    "              'ציון העבודה':'grade',\n",
    "             'חומר ביסוס':'foundation',\n",
    "             'מקדם חומר ביסוס':'foundation_coeff'} \n",
    "\n",
    "\n",
    "excel_path = r'\\\\fsrv\\Public_Folders\\מפינט\\חטיבת קדסטר\\מערכת חדשה לניהול קדסטר - דוחות\\View_AllProjects_currently_phase.xlsx'\n",
    "excel = pd.read_excel(excel_path).rename(columns=heb2eng_dic).dropna(how='all')\n",
    "\n",
    "# Read Targets data (csv)\n",
    "\n",
    "target_path = r'\\\\fsrv\\Public_Folders\\מפינט\\חטיבת קדסטר\\בקרה ומעקב\\יעדים\\Targets_global.csv'\n",
    "targets = pd.read_csv(target_path, encoding='cp1255')"
   ]
  },
  {
   "cell_type": "code",
   "execution_count": 3,
   "metadata": {},
   "outputs": [],
   "source": [
    "# Count elipses for each form & make sure the results are whole numbers and not floats\n",
    "# excel['elipse_count'] = excel['tazars'].str.count(\"/\").fillna(0).astype(int)\n",
    "\n",
    "# replace unit text to English using dictionary\n",
    "##need to figure how to use Hebrew##\n",
    "excel['unit_fix'] = excel['Unit']\n",
    "targets['unit_fix'] = targets['unit']\n",
    "\n",
    "unit_dic = {'אגף תצ\"ר':'מרכז',\n",
    "               'מרחב חיפה והצפון':'חיפה',\n",
    "               'מרחב הגליל':'גליל',\n",
    "               'מרחב ירושלים':'ירושלים',\n",
    "            'מרחב באר שבע והדרום':'דרום',\n",
    "               'בקרה ומעקב':'בקרה ומעקב',\n",
    "               'אגף קמ\"ק':'קמ\"ק',\n",
    "               'אגף ה\"ק':'הסדר קרקעות',\n",
    "               'תחום מודד מבקר':'מודד מבקר',\n",
    "               'גליל':'גליל',\n",
    "               'חיפה':'חיפה',\n",
    "               'ירושלים':'ירושלים',\n",
    "               'מרכז':'מרכז',\n",
    "               'דרום':'דרום'}\n",
    "\n",
    "excel.replace({\"unit_fix\":unit_dic},inplace=True)"
   ]
  },
  {
   "cell_type": "code",
   "execution_count": 4,
   "metadata": {},
   "outputs": [],
   "source": [
    "#Add columns of status == בתיקונים or in handle\n",
    "excel['forms_in_repairs'] = excel.status.isin(['בתיקונים']).astype('int32')\n",
    "excel['forms_in_handle'] = ~excel.status.isin(['בתיקונים'])\n",
    "excel['form_count'] = excel['forms_in_repairs'] + excel['forms_in_handle']"
   ]
  },
  {
   "cell_type": "code",
   "execution_count": 5,
   "metadata": {},
   "outputs": [],
   "source": [
    "# Filter data by phase, status & unit\n",
    "\n",
    "status_list = ['בהקפאה' , 'מוקפא']   # 'בתיקונים' \n",
    "\n",
    "a_phase = excel[(excel.phase == 'פתיחת פרויקט') & (~excel.status.isin(status_list))].groupby('unit_fix',as_index=False, dropna=False, sort=True).sum()\n",
    "b_phase = excel[(excel.phase == 'ביקורת מקדמית') & (~excel.status.isin(status_list))].groupby('unit_fix',as_index=False, dropna=False,sort=True).sum()\n",
    "c_phase = excel[(excel.phase == 'שיוך למבקר') & (~excel.status.isin(status_list))].groupby('unit_fix',as_index=False, dropna=False, sort=True).sum()"
   ]
  },
  {
   "cell_type": "code",
   "execution_count": 6,
   "metadata": {},
   "outputs": [],
   "source": [
    "# Drop 'הסדר קרקעות'  & and unnecessery columns from data\n",
    "\n",
    "to_drop = ['onlineFormNum', 'License','LicenseRevSurv', 'factor', 'grade']\n",
    "\n",
    "\n",
    "a_phase = a_phase[a_phase.unit_fix != 'הסדר קרקעות'].drop(columns=to_drop)\n",
    "b_phase = b_phase[b_phase.unit_fix != 'הסדר קרקעות'].drop(columns=to_drop)\n",
    "c_phase = c_phase[c_phase.unit_fix != 'הסדר קרקעות'].drop(columns=to_drop)"
   ]
  },
  {
   "cell_type": "code",
   "execution_count": 7,
   "metadata": {},
   "outputs": [],
   "source": [
    "#Save Results to Excel files\n",
    "\n",
    "a_phase.to_excel(r'\\\\fsrv\\Public_Folders\\מפינט\\חטיבת קדסטר\\מערכת חדשה לניהול קדסטר - דוחות\\עומסים\\פתיחת פרויקט.xlsx',\n",
    "                 sheet_name='פתיחת פרויקט',\n",
    "                 encoding='cp1255',\n",
    "                 index=False)\n",
    "\n",
    "b_phase.to_excel(r'\\\\fsrv\\Public_Folders\\מפינט\\חטיבת קדסטר\\מערכת חדשה לניהול קדסטר - דוחות\\עומסים\\ביקורת מקדמית.xlsx',\n",
    "                 sheet_name='ביקורת מקדמית',\n",
    "                 encoding='cp1255',\n",
    "                 index=False)\n",
    "\n",
    "c_phase.to_excel(r'\\\\fsrv\\Public_Folders\\מפינט\\חטיבת קדסטר\\מערכת חדשה לניהול קדסטר - דוחות\\עומסים\\שיוך למבקר.xlsx',\n",
    "                 sheet_name='שיוך למבקר',\n",
    "                 encoding='cp1255',\n",
    "                 index=False)"
   ]
  },
  {
   "cell_type": "code",
   "execution_count": 8,
   "metadata": {},
   "outputs": [],
   "source": [
    "targets_a = pd.merge(targets,a_phase, on='unit_fix', how='left')\n",
    "targets_b = pd.merge(targets,b_phase, on='unit_fix', how='left')\n",
    "targets_c = pd.merge(targets,c_phase, on='unit_fix', how='left')\n",
    "\n",
    "on=['unit','reviewers']\n",
    "\n",
    "phase_all = targets_a.merge(\n",
    "    targets_b,on=on, copy=False,suffixes=('_B','_C')).merge(\n",
    "    targets_c,on=on, copy=False).groupby(\n",
    "    by='unit',as_index=False).sum().sort_values(by='unit')\n",
    "\n",
    " # pd.set_option('display.max_columns', 50)\n",
    "phase_all['traffic_all'] = (phase_all['talar_count'] + phase_all['talar_count_B'] + phase_all['talar_count_C'])/phase_all['target_month']"
   ]
  },
  {
   "cell_type": "code",
   "execution_count": 9,
   "metadata": {},
   "outputs": [],
   "source": [
    "mean_a = str(round(targets_a['talar_count'].mean(),1))\n",
    "mean_b = str(round(targets_b['talar_count'].mean(),1))\n",
    "mean_c = str(round(targets_c['talar_count'].mean(),1))\n",
    "\n",
    "mean_traffic_all= str(round(phase_all['traffic_all'].mean(),2))"
   ]
  },
  {
   "cell_type": "code",
   "execution_count": 10,
   "metadata": {},
   "outputs": [],
   "source": [
    "sum_a = str(targets_a['talar_count'].sum())\n",
    "sum_b = str(targets_b['talar_count'].sum())\n",
    "sum_c = str(targets_c['talar_count'].sum())"
   ]
  },
  {
   "cell_type": "code",
   "execution_count": 11,
   "metadata": {},
   "outputs": [
    {
     "name": "stdout",
     "output_type": "stream",
     "text": [
      "Plotting visualizations...\n"
     ]
    }
   ],
   "source": [
    "print('Plotting visualizations...')"
   ]
  },
  {
   "cell_type": "code",
   "execution_count": 12,
   "metadata": {},
   "outputs": [],
   "source": [
    "# Plotting HTML with Bokeh\n",
    "from bokeh.io import output_file, show\n",
    "from bokeh.plotting import figure\n",
    "from bokeh.layouts import row\n",
    "from bokeh.models import Label, Title\n",
    "\n",
    "from datetime import datetime"
   ]
  },
  {
   "cell_type": "code",
   "execution_count": 14,
   "metadata": {},
   "outputs": [
    {
     "data": {
      "text/plain": [
       "<matplotlib.axes._subplots.AxesSubplot at 0x14b6129cd90>"
      ]
     },
     "execution_count": 14,
     "metadata": {},
     "output_type": "execute_result"
    },
    {
     "data": {
      "image/png": "[encoded data removed]",
      "text/plain": [
       "<Figure size 432x288 with 1 Axes>"
      ]
     },
     "metadata": {
      "needs_background": "light"
     },
     "output_type": "display_data"
    }
   ],
   "source": [
    "phase_all['traffic_all'].plot()"
   ]
  },
  {
   "cell_type": "code",
   "execution_count": 41,
   "metadata": {},
   "outputs": [],
   "source": [
    "now = datetime.now() \n",
    "current_time = now.strftime(\"%H:%M:%S %d/%m/%Y\")\n",
    "current_time_text = str(current_time) + ' :נכון לתאריך'\n",
    "\n",
    "output_file(r'\\\\fsrv\\Public_Folders\\מפינט\\חטיבת קדסטר\\מערכת חדשה לניהול קדסטר - דוחות\\עומסים\\כמות תכניות לשלב ביקורת.html', title='כמות תכניות לפי שלב ביקורת')\n",
    "\n",
    "x0 = list(a_phase['unit_fix'])\n",
    "x1 = list(b_phase['unit_fix'])\n",
    "x2 = list(c_phase['unit_fix'])\n",
    "\n",
    "y0 = a_phase['talar_count']\n",
    "y1 = b_phase['talar_count']\n",
    "y2 = c_phase['talar_count']\n",
    "\n",
    "\n",
    "citation_s = Label(x=30, y=-300, x_units='screen', y_units='screen',\n",
    "                 text= current_time_text, render_mode='css',\n",
    "                 text_font_size='25pt',\n",
    "                 background_fill_color='white', background_fill_alpha=1.0)\n",
    "\n",
    "s1Title = 'כמות תכניות בשלב פתיחת פרויקט'\n",
    "s1sumTitle = sum_a + ' :סכום'\n",
    "s1meanTitle = mean_a + ' :ממוצע'\n",
    "\n",
    "s2Title =   'כמות תכניות בשלב ביקורת מקדמית'\n",
    "s2sumTitle = sum_b + ' :סכום'\n",
    "s2meanTitle = mean_b + ' :ממוצע'\n",
    "\n",
    "\n",
    "s3Title = 'כמות תכניות בשלב שיוך למבקר'\n",
    "s3sumTitle = sum_c + ' :סכום'\n",
    "s3meanTitle = mean_c + ' :ממוצע'\n",
    "\n",
    "\n",
    "\n",
    "# create three plots\n",
    "s1 = figure(x_range=x0, plot_height=550,plot_width=650, title=s1Title,\n",
    "           toolbar_location='right', tools=\"pan,wheel_zoom,box_zoom,reset\")\n",
    "s1.vbar(x=x0, top=y0, width=0.9, fill_color='blue',line_width=4, line_color='black')\n",
    "\n",
    "s2 = figure(x_range=x1, plot_height=550,plot_width=650, title=s2Title,\n",
    "           toolbar_location='right', tools=\"pan,wheel_zoom,box_zoom,reset\")\n",
    "s2.vbar(x=x1, top=y1, width=0.9, fill_color='yellow',line_width=4, line_color='black')\n",
    "\n",
    "s3 = figure(x_range=x2, plot_height=550,plot_width=650, title=s3Title,\n",
    "           toolbar_location='right', tools=\"pan,wheel_zoom,box_zoom,reset\")\n",
    "s3.vbar(x=x2, top=y2, width=0.9, fill_color='purple',line_width=4, line_color='black')\n",
    "\n",
    "\n",
    "s1.add_layout(Title(text=s1sumTitle, text_font_size=\"10pt\"), 'above')\n",
    "s1.add_layout(Title(text=s1meanTitle, text_font_size=\"10pt\"), 'above')\n",
    "\n",
    "s2.add_layout(Title(text=s2sumTitle, text_font_size=\"10pt\"), 'above')\n",
    "s2.add_layout(Title(text=s2meanTitle, text_font_size=\"10pt\"), 'above')\n",
    "\n",
    "s3.add_layout(Title(text=s3sumTitle, text_font_size=\"10pt\"), 'above')\n",
    "s3.add_layout(Title(text=s3meanTitle, text_font_size=\"10pt\"), 'above')\n",
    "\n",
    "\n",
    "s3.add_layout(citation_s)\n",
    "\n",
    "for s in [s1,s2,s3]:\n",
    "    s.xaxis.major_label_orientation = 45\n",
    "    s.background_fill_color = \"beige\"\n",
    "    s.background_fill_alpha = 0.5\n",
    "    s.xaxis.major_label_text_font_size=\"12pt\"\n",
    "    s.yaxis.major_label_text_font_size=\"12pt\"\n",
    "    s.outline_line_width = 3\n",
    "    s.outline_line_alpha = 0.9\n",
    "    s.outline_line_color = \"black\"\n",
    "    s.y_range.start = 0\n",
    "    s.title.align = 'center'\n",
    "\n",
    "# put the results in a row and uncomment to show\n",
    "show(row(s1, s2, s3))\n"
   ]
  },
  {
   "cell_type": "code",
   "execution_count": 42,
   "metadata": {},
   "outputs": [],
   "source": [
    "output_file(r'\\\\fsrv\\Public_Folders\\מפינט\\חטיבת קדסטר\\מערכת חדשה לניהול קדסטר - דוחות\\עומסים\\עומס משוקלל לתצר.html', title = 'עומס משוקלל לתצ\"ר')\n",
    "\n",
    "x = list(phase_all['unit'])\n",
    "y = list(phase_all['traffic_all'])\n",
    "\n",
    "pTiltle = mean_traffic_all +  ' :עומסי תצ\"ר בחטיבת קדסטר, ' + 'ממוצע'\n",
    "         \n",
    "p = figure(x_range=x, plot_height=800,plot_width=1400, title=pTiltle,\n",
    "           toolbar_location='right', tools=\"pan,wheel_zoom,box_zoom,reset\")\n",
    "\n",
    "p.vbar(x=x, top=y, width=0.9, fill_color='#7FFDA7',line_width=4, line_color='black')\n",
    "p.title.text_font_size = \"30pt\"\n",
    "p.title.align = 'center'\n",
    "\n",
    "citation_p = Label(x=450, y=-150, x_units='screen', y_units='screen',\n",
    "                 text=current_time_text, render_mode='css',\n",
    "                 text_font_size='20pt',\n",
    "                 background_fill_color='white', background_fill_alpha=1.0)\n",
    "p.add_layout(citation_p)\n",
    "\n",
    "p.background_fill_color = \"#c1c3c2\"\n",
    "p.background_fill_alpha = 0.5\n",
    "\n",
    "p.xaxis.axis_label = \"יחידת ביקורת\"\n",
    "p.xaxis.axis_label_text_color = \"black\"\n",
    "p.xaxis.axis_label_standoff = 10\n",
    "p.xaxis.axis_label_text_font_size = \"40pt\"\n",
    "\n",
    "p.yaxis.axis_label = \"חודשי המתנה לתחילת ביקורת\"\n",
    "p.yaxis.axis_label_text_color = \"black\"\n",
    "p.yaxis.axis_label_standoff = 10\n",
    "p.yaxis.axis_label_text_font_size = \"40pt\"\n",
    "\n",
    "p.xaxis.major_label_text_font_size=\"20pt\"\n",
    "p.yaxis.major_label_text_font_size=\"20pt\"\n",
    "\n",
    "p.outline_line_width = 7\n",
    "p.outline_line_alpha = 0.9\n",
    "p.outline_line_color = \"black\"\n",
    "\n",
    "p.xgrid.grid_line_color = None\n",
    "p.y_range.start = 0\n",
    "\n",
    "# put the results in a row and uncomment to show\n",
    "show(p)\n"
   ]
  }
 ],
 "metadata": {
  "kernelspec": {
   "display_name": "Python 3",
   "language": "python",
   "name": "python3"
  },
  "language_info": {
   "codemirror_mode": {
    "name": "ipython",
    "version": 3
   },
   "file_extension": ".py",
   "mimetype": "text/x-python",
   "name": "python",
   "nbconvert_exporter": "python",
   "pygments_lexer": "ipython3",
   "version": "3.8.2"
  }
 },
 "nbformat": 4,
 "nbformat_minor": 4
}
